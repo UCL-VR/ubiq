{
 "cells": [
  {
   "cell_type": "markdown",
   "id": "15d5dc47",
   "metadata": {},
   "source": [
    "Print the version to check that Pandas is available.\n",
    "If the module is not found, install pandas with `pip install pandas`."
   ]
  },
  {
   "cell_type": "code",
   "execution_count": 1,
   "id": "18226a2f",
   "metadata": {},
   "outputs": [
    {
     "name": "stdout",
     "output_type": "stream",
     "text": [
      "1.4.0\n"
     ]
    }
   ],
   "source": [
    "import pandas as pd\n",
    "print(pd.__version__)"
   ]
  },
  {
   "cell_type": "markdown",
   "id": "d014d5f3",
   "metadata": {},
   "source": [
    "Import the Json file with read_json. This will make a Pandas [*DataFrame*](https://pandas.pydata.org/docs/reference/api/pandas.DataFrame.html) (a table)."
   ]
  },
  {
   "cell_type": "code",
   "execution_count": 2,
   "id": "1dd112b3",
   "metadata": {},
   "outputs": [],
   "source": [
    "df = pd.read_json(\"Debug_Log.json\")\n"
   ]
  },
  {
   "cell_type": "markdown",
   "id": "5be4622f",
   "metadata": {},
   "source": [
    "Print the first five rows to see what the table looks like."
   ]
  },
  {
   "cell_type": "code",
   "execution_count": 3,
   "id": "5c70ce3e",
   "metadata": {},
   "outputs": [
    {
     "data": {
      "text/html": [
       "<div>\n",
       "<style scoped>\n",
       "    .dataframe tbody tr th:only-of-type {\n",
       "        vertical-align: middle;\n",
       "    }\n",
       "\n",
       "    .dataframe tbody tr th {\n",
       "        vertical-align: top;\n",
       "    }\n",
       "\n",
       "    .dataframe thead th {\n",
       "        text-align: right;\n",
       "    }\n",
       "</style>\n",
       "<table border=\"1\" class=\"dataframe\">\n",
       "  <thead>\n",
       "    <tr style=\"text-align: right;\">\n",
       "      <th></th>\n",
       "      <th>ticks</th>\n",
       "      <th>peer</th>\n",
       "      <th>type</th>\n",
       "      <th>event</th>\n",
       "      <th>arg1</th>\n",
       "      <th>arg2</th>\n",
       "      <th>arg3</th>\n",
       "      <th>objectid</th>\n",
       "      <th>componentid</th>\n",
       "    </tr>\n",
       "  </thead>\n",
       "  <tbody>\n",
       "    <tr>\n",
       "      <th>0</th>\n",
       "      <td>637799313741476033</td>\n",
       "      <td>2990c448-6701d991</td>\n",
       "      <td>Ubiq.Messaging.NetworkScene</td>\n",
       "      <td>Awake</td>\n",
       "      <td>DESKTOP-F1J0MRR</td>\n",
       "      <td>System Product Name (ASUS)</td>\n",
       "      <td>f73fe01b1e21031d49274a1491d1d6b5714c92e9</td>\n",
       "      <td>NaN</td>\n",
       "      <td>NaN</td>\n",
       "    </tr>\n",
       "    <tr>\n",
       "      <th>1</th>\n",
       "      <td>637799313890915697</td>\n",
       "      <td>2990c448-6701d991</td>\n",
       "      <td>Ubiq.Voip.VoipPeerConnectionManager</td>\n",
       "      <td>CreatePeerConnectionForPeer</td>\n",
       "      <td>0b6034cb-5c980872</td>\n",
       "      <td>21119b9e-9028aafa</td>\n",
       "      <td>NaN</td>\n",
       "      <td>2990c448-6701d991</td>\n",
       "      <td>50.0</td>\n",
       "    </tr>\n",
       "    <tr>\n",
       "      <th>2</th>\n",
       "      <td>637799313890975713</td>\n",
       "      <td>2990c448-6701d991</td>\n",
       "      <td>Ubiq.Voip.VoipPeerConnectionManager</td>\n",
       "      <td>RequestPeerConnection</td>\n",
       "      <td>0b6034cb-5c980872</td>\n",
       "      <td>21119b9e-9028aafa</td>\n",
       "      <td>NaN</td>\n",
       "      <td>2990c448-6701d991</td>\n",
       "      <td>50.0</td>\n",
       "    </tr>\n",
       "    <tr>\n",
       "      <th>3</th>\n",
       "      <td>637799313891015701</td>\n",
       "      <td>2990c448-6701d991</td>\n",
       "      <td>Ubiq.Samples.NetworkSpawner</td>\n",
       "      <td>SpawnObject</td>\n",
       "      <td>2</td>\n",
       "      <td>b0edec0e-fcf7792a</td>\n",
       "      <td>True</td>\n",
       "      <td>7725a971-a3692643</td>\n",
       "      <td>49018.0</td>\n",
       "    </tr>\n",
       "    <tr>\n",
       "      <th>4</th>\n",
       "      <td>637799313891055695</td>\n",
       "      <td>2990c448-6701d991</td>\n",
       "      <td>Ubiq.Samples.NetworkSpawner</td>\n",
       "      <td>SpawnObject</td>\n",
       "      <td>2</td>\n",
       "      <td>43b53edd-7c900c8f</td>\n",
       "      <td>False</td>\n",
       "      <td>7725a971-a3692643</td>\n",
       "      <td>49018.0</td>\n",
       "    </tr>\n",
       "  </tbody>\n",
       "</table>\n",
       "</div>"
      ],
      "text/plain": [
       "                ticks               peer                                 type  \\\n",
       "0  637799313741476033  2990c448-6701d991          Ubiq.Messaging.NetworkScene   \n",
       "1  637799313890915697  2990c448-6701d991  Ubiq.Voip.VoipPeerConnectionManager   \n",
       "2  637799313890975713  2990c448-6701d991  Ubiq.Voip.VoipPeerConnectionManager   \n",
       "3  637799313891015701  2990c448-6701d991          Ubiq.Samples.NetworkSpawner   \n",
       "4  637799313891055695  2990c448-6701d991          Ubiq.Samples.NetworkSpawner   \n",
       "\n",
       "                         event               arg1                        arg2  \\\n",
       "0                        Awake    DESKTOP-F1J0MRR  System Product Name (ASUS)   \n",
       "1  CreatePeerConnectionForPeer  0b6034cb-5c980872           21119b9e-9028aafa   \n",
       "2        RequestPeerConnection  0b6034cb-5c980872           21119b9e-9028aafa   \n",
       "3                  SpawnObject                  2           b0edec0e-fcf7792a   \n",
       "4                  SpawnObject                  2           43b53edd-7c900c8f   \n",
       "\n",
       "                                       arg3           objectid  componentid  \n",
       "0  f73fe01b1e21031d49274a1491d1d6b5714c92e9                NaN          NaN  \n",
       "1                                       NaN  2990c448-6701d991         50.0  \n",
       "2                                       NaN  2990c448-6701d991         50.0  \n",
       "3                                      True  7725a971-a3692643      49018.0  \n",
       "4                                     False  7725a971-a3692643      49018.0  "
      ]
     },
     "execution_count": 3,
     "metadata": {},
     "output_type": "execute_result"
    }
   ],
   "source": [
    "df.head(5)"
   ]
  },
  {
   "cell_type": "markdown",
   "id": "4bc3369d",
   "metadata": {},
   "source": [
    "We can use Pandas to filter and process the structured logs. Use Unique to find all the event types seen during the session."
   ]
  },
  {
   "cell_type": "code",
   "execution_count": 11,
   "id": "2b55c17c",
   "metadata": {},
   "outputs": [
    {
     "data": {
      "text/plain": [
       "array(['Ubiq.Messaging.NetworkScene',\n",
       "       'Ubiq.Voip.VoipPeerConnectionManager',\n",
       "       'Ubiq.Samples.NetworkSpawner'], dtype=object)"
      ]
     },
     "execution_count": 11,
     "metadata": {},
     "output_type": "execute_result"
    }
   ],
   "source": [
    "df.type.unique()"
   ]
  },
  {
   "cell_type": "markdown",
   "id": "c03241ae",
   "metadata": {},
   "source": [
    "Pandas can perform vector comparisons, and filter DataFrames by row indices. Select all the SpawnObject events."
   ]
  },
  {
   "cell_type": "code",
   "execution_count": 5,
   "id": "05170ba7",
   "metadata": {},
   "outputs": [
    {
     "data": {
      "text/html": [
       "<div>\n",
       "<style scoped>\n",
       "    .dataframe tbody tr th:only-of-type {\n",
       "        vertical-align: middle;\n",
       "    }\n",
       "\n",
       "    .dataframe tbody tr th {\n",
       "        vertical-align: top;\n",
       "    }\n",
       "\n",
       "    .dataframe thead th {\n",
       "        text-align: right;\n",
       "    }\n",
       "</style>\n",
       "<table border=\"1\" class=\"dataframe\">\n",
       "  <thead>\n",
       "    <tr style=\"text-align: right;\">\n",
       "      <th></th>\n",
       "      <th>ticks</th>\n",
       "      <th>peer</th>\n",
       "      <th>type</th>\n",
       "      <th>event</th>\n",
       "      <th>arg1</th>\n",
       "      <th>arg2</th>\n",
       "      <th>arg3</th>\n",
       "      <th>objectid</th>\n",
       "      <th>componentid</th>\n",
       "    </tr>\n",
       "  </thead>\n",
       "  <tbody>\n",
       "    <tr>\n",
       "      <th>3</th>\n",
       "      <td>637799313891015701</td>\n",
       "      <td>2990c448-6701d991</td>\n",
       "      <td>Ubiq.Samples.NetworkSpawner</td>\n",
       "      <td>SpawnObject</td>\n",
       "      <td>2</td>\n",
       "      <td>b0edec0e-fcf7792a</td>\n",
       "      <td>True</td>\n",
       "      <td>7725a971-a3692643</td>\n",
       "      <td>49018.0</td>\n",
       "    </tr>\n",
       "    <tr>\n",
       "      <th>4</th>\n",
       "      <td>637799313891055695</td>\n",
       "      <td>2990c448-6701d991</td>\n",
       "      <td>Ubiq.Samples.NetworkSpawner</td>\n",
       "      <td>SpawnObject</td>\n",
       "      <td>2</td>\n",
       "      <td>43b53edd-7c900c8f</td>\n",
       "      <td>False</td>\n",
       "      <td>7725a971-a3692643</td>\n",
       "      <td>49018.0</td>\n",
       "    </tr>\n",
       "    <tr>\n",
       "      <th>5</th>\n",
       "      <td>637799313935475736</td>\n",
       "      <td>2990c448-6701d991</td>\n",
       "      <td>Ubiq.Samples.NetworkSpawner</td>\n",
       "      <td>SpawnObject</td>\n",
       "      <td>1</td>\n",
       "      <td>bf000355-ece0ea90</td>\n",
       "      <td>False</td>\n",
       "      <td>7725a971-a3692643</td>\n",
       "      <td>49018.0</td>\n",
       "    </tr>\n",
       "    <tr>\n",
       "      <th>6</th>\n",
       "      <td>637799313951775722</td>\n",
       "      <td>2990c448-6701d991</td>\n",
       "      <td>Ubiq.Samples.NetworkSpawner</td>\n",
       "      <td>SpawnObject</td>\n",
       "      <td>1</td>\n",
       "      <td>ba22e255-c3d84eb4</td>\n",
       "      <td>False</td>\n",
       "      <td>7725a971-a3692643</td>\n",
       "      <td>49018.0</td>\n",
       "    </tr>\n",
       "    <tr>\n",
       "      <th>7</th>\n",
       "      <td>637799313967325709</td>\n",
       "      <td>2990c448-6701d991</td>\n",
       "      <td>Ubiq.Samples.NetworkSpawner</td>\n",
       "      <td>SpawnObject</td>\n",
       "      <td>1</td>\n",
       "      <td>1ad3fc82-d41c3b8f</td>\n",
       "      <td>False</td>\n",
       "      <td>7725a971-a3692643</td>\n",
       "      <td>49018.0</td>\n",
       "    </tr>\n",
       "  </tbody>\n",
       "</table>\n",
       "</div>"
      ],
      "text/plain": [
       "                ticks               peer                         type  \\\n",
       "3  637799313891015701  2990c448-6701d991  Ubiq.Samples.NetworkSpawner   \n",
       "4  637799313891055695  2990c448-6701d991  Ubiq.Samples.NetworkSpawner   \n",
       "5  637799313935475736  2990c448-6701d991  Ubiq.Samples.NetworkSpawner   \n",
       "6  637799313951775722  2990c448-6701d991  Ubiq.Samples.NetworkSpawner   \n",
       "7  637799313967325709  2990c448-6701d991  Ubiq.Samples.NetworkSpawner   \n",
       "\n",
       "         event arg1               arg2   arg3           objectid  componentid  \n",
       "3  SpawnObject    2  b0edec0e-fcf7792a   True  7725a971-a3692643      49018.0  \n",
       "4  SpawnObject    2  43b53edd-7c900c8f  False  7725a971-a3692643      49018.0  \n",
       "5  SpawnObject    1  bf000355-ece0ea90  False  7725a971-a3692643      49018.0  \n",
       "6  SpawnObject    1  ba22e255-c3d84eb4  False  7725a971-a3692643      49018.0  \n",
       "7  SpawnObject    1  1ad3fc82-d41c3b8f  False  7725a971-a3692643      49018.0  "
      ]
     },
     "execution_count": 5,
     "metadata": {},
     "output_type": "execute_result"
    }
   ],
   "source": [
    "df[df.event == \"SpawnObject\"].head(5)"
   ]
  },
  {
   "cell_type": "markdown",
   "id": "059a464c",
   "metadata": {},
   "source": [
    "The Shape member shows the size of the result"
   ]
  },
  {
   "cell_type": "code",
   "execution_count": 13,
   "id": "1dfceb39",
   "metadata": {},
   "outputs": [
    {
     "data": {
      "text/plain": [
       "(22, 9)"
      ]
     },
     "execution_count": 13,
     "metadata": {},
     "output_type": "execute_result"
    }
   ],
   "source": [
    "df[df.event == \"SpawnObject\"].shape"
   ]
  },
  {
   "cell_type": "markdown",
   "id": "9b48fbdc",
   "metadata": {},
   "source": [
    "The Pandas [*merge*](https://pandas.pydata.org/pandas-docs/stable/user_guide/merging.html) method is used to perform inner and outer joins to relate different log events. We merge the `Awake` events with the local `SpawnObject` events based on the `NetworkScene` Ids (`peer`)."
   ]
  },
  {
   "cell_type": "code",
   "execution_count": 20,
   "id": "eef34af9",
   "metadata": {},
   "outputs": [
    {
     "data": {
      "text/html": [
       "<div>\n",
       "<style scoped>\n",
       "    .dataframe tbody tr th:only-of-type {\n",
       "        vertical-align: middle;\n",
       "    }\n",
       "\n",
       "    .dataframe tbody tr th {\n",
       "        vertical-align: top;\n",
       "    }\n",
       "\n",
       "    .dataframe thead th {\n",
       "        text-align: right;\n",
       "    }\n",
       "</style>\n",
       "<table border=\"1\" class=\"dataframe\">\n",
       "  <thead>\n",
       "    <tr style=\"text-align: right;\">\n",
       "      <th></th>\n",
       "      <th>ticks_x</th>\n",
       "      <th>peer</th>\n",
       "      <th>type_x</th>\n",
       "      <th>event_x</th>\n",
       "      <th>arg1_x</th>\n",
       "      <th>arg2_x</th>\n",
       "      <th>arg3_x</th>\n",
       "      <th>objectid_x</th>\n",
       "      <th>componentid_x</th>\n",
       "      <th>ticks_y</th>\n",
       "      <th>type_y</th>\n",
       "      <th>event_y</th>\n",
       "      <th>arg1_y</th>\n",
       "      <th>arg2_y</th>\n",
       "      <th>arg3_y</th>\n",
       "      <th>objectid_y</th>\n",
       "      <th>componentid_y</th>\n",
       "    </tr>\n",
       "  </thead>\n",
       "  <tbody>\n",
       "    <tr>\n",
       "      <th>0</th>\n",
       "      <td>637799313891015701</td>\n",
       "      <td>2990c448-6701d991</td>\n",
       "      <td>Ubiq.Samples.NetworkSpawner</td>\n",
       "      <td>SpawnObject</td>\n",
       "      <td>2</td>\n",
       "      <td>b0edec0e-fcf7792a</td>\n",
       "      <td>True</td>\n",
       "      <td>7725a971-a3692643</td>\n",
       "      <td>49018.0</td>\n",
       "      <td>637799313741476033</td>\n",
       "      <td>Ubiq.Messaging.NetworkScene</td>\n",
       "      <td>Awake</td>\n",
       "      <td>DESKTOP-F1J0MRR</td>\n",
       "      <td>System Product Name (ASUS)</td>\n",
       "      <td>f73fe01b1e21031d49274a1491d1d6b5714c92e9</td>\n",
       "      <td>NaN</td>\n",
       "      <td>NaN</td>\n",
       "    </tr>\n",
       "    <tr>\n",
       "      <th>1</th>\n",
       "      <td>637799313891055695</td>\n",
       "      <td>2990c448-6701d991</td>\n",
       "      <td>Ubiq.Samples.NetworkSpawner</td>\n",
       "      <td>SpawnObject</td>\n",
       "      <td>2</td>\n",
       "      <td>43b53edd-7c900c8f</td>\n",
       "      <td>False</td>\n",
       "      <td>7725a971-a3692643</td>\n",
       "      <td>49018.0</td>\n",
       "      <td>637799313741476033</td>\n",
       "      <td>Ubiq.Messaging.NetworkScene</td>\n",
       "      <td>Awake</td>\n",
       "      <td>DESKTOP-F1J0MRR</td>\n",
       "      <td>System Product Name (ASUS)</td>\n",
       "      <td>f73fe01b1e21031d49274a1491d1d6b5714c92e9</td>\n",
       "      <td>NaN</td>\n",
       "      <td>NaN</td>\n",
       "    </tr>\n",
       "    <tr>\n",
       "      <th>2</th>\n",
       "      <td>637799313935475736</td>\n",
       "      <td>2990c448-6701d991</td>\n",
       "      <td>Ubiq.Samples.NetworkSpawner</td>\n",
       "      <td>SpawnObject</td>\n",
       "      <td>1</td>\n",
       "      <td>bf000355-ece0ea90</td>\n",
       "      <td>False</td>\n",
       "      <td>7725a971-a3692643</td>\n",
       "      <td>49018.0</td>\n",
       "      <td>637799313741476033</td>\n",
       "      <td>Ubiq.Messaging.NetworkScene</td>\n",
       "      <td>Awake</td>\n",
       "      <td>DESKTOP-F1J0MRR</td>\n",
       "      <td>System Product Name (ASUS)</td>\n",
       "      <td>f73fe01b1e21031d49274a1491d1d6b5714c92e9</td>\n",
       "      <td>NaN</td>\n",
       "      <td>NaN</td>\n",
       "    </tr>\n",
       "    <tr>\n",
       "      <th>3</th>\n",
       "      <td>637799313951775722</td>\n",
       "      <td>2990c448-6701d991</td>\n",
       "      <td>Ubiq.Samples.NetworkSpawner</td>\n",
       "      <td>SpawnObject</td>\n",
       "      <td>1</td>\n",
       "      <td>ba22e255-c3d84eb4</td>\n",
       "      <td>False</td>\n",
       "      <td>7725a971-a3692643</td>\n",
       "      <td>49018.0</td>\n",
       "      <td>637799313741476033</td>\n",
       "      <td>Ubiq.Messaging.NetworkScene</td>\n",
       "      <td>Awake</td>\n",
       "      <td>DESKTOP-F1J0MRR</td>\n",
       "      <td>System Product Name (ASUS)</td>\n",
       "      <td>f73fe01b1e21031d49274a1491d1d6b5714c92e9</td>\n",
       "      <td>NaN</td>\n",
       "      <td>NaN</td>\n",
       "    </tr>\n",
       "    <tr>\n",
       "      <th>4</th>\n",
       "      <td>637799313967325709</td>\n",
       "      <td>2990c448-6701d991</td>\n",
       "      <td>Ubiq.Samples.NetworkSpawner</td>\n",
       "      <td>SpawnObject</td>\n",
       "      <td>1</td>\n",
       "      <td>1ad3fc82-d41c3b8f</td>\n",
       "      <td>False</td>\n",
       "      <td>7725a971-a3692643</td>\n",
       "      <td>49018.0</td>\n",
       "      <td>637799313741476033</td>\n",
       "      <td>Ubiq.Messaging.NetworkScene</td>\n",
       "      <td>Awake</td>\n",
       "      <td>DESKTOP-F1J0MRR</td>\n",
       "      <td>System Product Name (ASUS)</td>\n",
       "      <td>f73fe01b1e21031d49274a1491d1d6b5714c92e9</td>\n",
       "      <td>NaN</td>\n",
       "      <td>NaN</td>\n",
       "    </tr>\n",
       "  </tbody>\n",
       "</table>\n",
       "</div>"
      ],
      "text/plain": [
       "              ticks_x               peer                       type_x  \\\n",
       "0  637799313891015701  2990c448-6701d991  Ubiq.Samples.NetworkSpawner   \n",
       "1  637799313891055695  2990c448-6701d991  Ubiq.Samples.NetworkSpawner   \n",
       "2  637799313935475736  2990c448-6701d991  Ubiq.Samples.NetworkSpawner   \n",
       "3  637799313951775722  2990c448-6701d991  Ubiq.Samples.NetworkSpawner   \n",
       "4  637799313967325709  2990c448-6701d991  Ubiq.Samples.NetworkSpawner   \n",
       "\n",
       "       event_x arg1_x             arg2_x arg3_x         objectid_x  \\\n",
       "0  SpawnObject      2  b0edec0e-fcf7792a   True  7725a971-a3692643   \n",
       "1  SpawnObject      2  43b53edd-7c900c8f  False  7725a971-a3692643   \n",
       "2  SpawnObject      1  bf000355-ece0ea90  False  7725a971-a3692643   \n",
       "3  SpawnObject      1  ba22e255-c3d84eb4  False  7725a971-a3692643   \n",
       "4  SpawnObject      1  1ad3fc82-d41c3b8f  False  7725a971-a3692643   \n",
       "\n",
       "   componentid_x             ticks_y                       type_y event_y  \\\n",
       "0        49018.0  637799313741476033  Ubiq.Messaging.NetworkScene   Awake   \n",
       "1        49018.0  637799313741476033  Ubiq.Messaging.NetworkScene   Awake   \n",
       "2        49018.0  637799313741476033  Ubiq.Messaging.NetworkScene   Awake   \n",
       "3        49018.0  637799313741476033  Ubiq.Messaging.NetworkScene   Awake   \n",
       "4        49018.0  637799313741476033  Ubiq.Messaging.NetworkScene   Awake   \n",
       "\n",
       "            arg1_y                      arg2_y  \\\n",
       "0  DESKTOP-F1J0MRR  System Product Name (ASUS)   \n",
       "1  DESKTOP-F1J0MRR  System Product Name (ASUS)   \n",
       "2  DESKTOP-F1J0MRR  System Product Name (ASUS)   \n",
       "3  DESKTOP-F1J0MRR  System Product Name (ASUS)   \n",
       "4  DESKTOP-F1J0MRR  System Product Name (ASUS)   \n",
       "\n",
       "                                     arg3_y objectid_y  componentid_y  \n",
       "0  f73fe01b1e21031d49274a1491d1d6b5714c92e9        NaN            NaN  \n",
       "1  f73fe01b1e21031d49274a1491d1d6b5714c92e9        NaN            NaN  \n",
       "2  f73fe01b1e21031d49274a1491d1d6b5714c92e9        NaN            NaN  \n",
       "3  f73fe01b1e21031d49274a1491d1d6b5714c92e9        NaN            NaN  \n",
       "4  f73fe01b1e21031d49274a1491d1d6b5714c92e9        NaN            NaN  "
      ]
     },
     "execution_count": 20,
     "metadata": {},
     "output_type": "execute_result"
    }
   ],
   "source": [
    "spawn = df[df.event == \"SpawnObject\"]\n",
    "awake = df[df.event == \"Awake\"]\n",
    "f = pd.merge(spawn,awake,how=\"left\",left_on=\"peer\",right_on=\"peer\")\n",
    "f.head(5)"
   ]
  },
  {
   "cell_type": "markdown",
   "id": "e6da9562",
   "metadata": {},
   "source": [
    "We can perform arithmetic operations too. We use [string](https://pandas.pydata.org/pandas-docs/stable/reference/api/pandas.Series.str.contains.html) operations, boolean arrays and [size](https://pandas.pydata.org/pandas-docs/stable/reference/api/pandas.DataFrame.size.html) to find the number of distinct objects spawned by the Oculus Quest."
   ]
  },
  {
   "cell_type": "code",
   "execution_count": 22,
   "id": "712540f1",
   "metadata": {},
   "outputs": [
    {
     "data": {
      "text/plain": [
       "5"
      ]
     },
     "execution_count": 22,
     "metadata": {},
     "output_type": "execute_result"
    }
   ],
   "source": [
    "is_quest = f.arg2_y.astype(str).str.contains(\"Quest\")\n",
    "is_owner = f.arg3_x.astype(bool)\n",
    "spawned_ids = f[is_quest & is_owner].arg2_x\n",
    "spawned_ids.unique().size\n"
   ]
  },
  {
   "cell_type": "code",
   "execution_count": null,
   "id": "98f8ffe4",
   "metadata": {},
   "outputs": [],
   "source": []
  }
 ],
 "metadata": {
  "kernelspec": {
   "display_name": "Python 3",
   "language": "python",
   "name": "python3"
  },
  "language_info": {
   "codemirror_mode": {
    "name": "ipython",
    "version": 3
   },
   "file_extension": ".py",
   "mimetype": "text/x-python",
   "name": "python",
   "nbconvert_exporter": "python",
   "pygments_lexer": "ipython3",
   "version": "3.9.4"
  }
 },
 "nbformat": 4,
 "nbformat_minor": 5
}
